{
 "cells": [
  {
   "cell_type": "code",
   "execution_count": 16,
   "metadata": {},
   "outputs": [],
   "source": [
    "import pandas as pd\n",
    "import nltk\n",
    "import re\n",
    "from tqdm import tqdm"
   ]
  },
  {
   "cell_type": "code",
   "execution_count": 17,
   "metadata": {},
   "outputs": [
    {
     "data": {
      "text/html": [
       "<div>\n",
       "<style scoped>\n",
       "    .dataframe tbody tr th:only-of-type {\n",
       "        vertical-align: middle;\n",
       "    }\n",
       "\n",
       "    .dataframe tbody tr th {\n",
       "        vertical-align: top;\n",
       "    }\n",
       "\n",
       "    .dataframe thead th {\n",
       "        text-align: right;\n",
       "    }\n",
       "</style>\n",
       "<table border=\"1\" class=\"dataframe\">\n",
       "  <thead>\n",
       "    <tr style=\"text-align: right;\">\n",
       "      <th></th>\n",
       "      <th>sentences</th>\n",
       "      <th>autor</th>\n",
       "    </tr>\n",
       "  </thead>\n",
       "  <tbody>\n",
       "    <tr>\n",
       "      <th>0</th>\n",
       "      <td>politics produced  eric eldreda treatise  gov...</td>\n",
       "      <td>ARISTOTLE</td>\n",
       "    </tr>\n",
       "    <tr>\n",
       "      <th>1</th>\n",
       "      <td>cofirst issue  this edition  reprinted , ,  po...</td>\n",
       "      <td>ARISTOTLE</td>\n",
       "    </tr>\n",
       "    <tr>\n",
       "      <th>2</th>\n",
       "      <td>looks back  the ethics  the ethicslooks forwar...</td>\n",
       "      <td>ARISTOTLE</td>\n",
       "    </tr>\n",
       "    <tr>\n",
       "      <th>3</th>\n",
       "      <td>for aristotle did not separate,   areinclined ...</td>\n",
       "      <td>ARISTOTLE</td>\n",
       "    </tr>\n",
       "    <tr>\n",
       "      <th>4</th>\n",
       "      <td>theethics  has described the character necessa...</td>\n",
       "      <td>ARISTOTLE</td>\n",
       "    </tr>\n",
       "  </tbody>\n",
       "</table>\n",
       "</div>"
      ],
      "text/plain": [
       "                                           sentences      autor\n",
       "0   politics produced  eric eldreda treatise  gov...  ARISTOTLE\n",
       "1  cofirst issue  this edition  reprinted , ,  po...  ARISTOTLE\n",
       "2  looks back  the ethics  the ethicslooks forwar...  ARISTOTLE\n",
       "3  for aristotle did not separate,   areinclined ...  ARISTOTLE\n",
       "4  theethics  has described the character necessa...  ARISTOTLE"
      ]
     },
     "execution_count": 17,
     "metadata": {},
     "output_type": "execute_result"
    }
   ],
   "source": [
    "df = pd.read_csv('./dados/sentencas_autores.csv')\n",
    "df.head()"
   ]
  },
  {
   "cell_type": "code",
   "execution_count": 18,
   "metadata": {},
   "outputs": [
    {
     "data": {
      "text/plain": [
       "THOMAS AQUINAS    26297\n",
       "SCHOPENHAUER      18233\n",
       "NIETZSCHE         10033\n",
       "ARISTOTLE          3095\n",
       "PLATO              2350\n",
       "Name: autor, dtype: int64"
      ]
     },
     "execution_count": 18,
     "metadata": {},
     "output_type": "execute_result"
    }
   ],
   "source": [
    "df.autor.value_counts()"
   ]
  },
  {
   "cell_type": "code",
   "execution_count": 19,
   "metadata": {},
   "outputs": [
    {
     "data": {
      "text/html": [
       "<div>\n",
       "<style scoped>\n",
       "    .dataframe tbody tr th:only-of-type {\n",
       "        vertical-align: middle;\n",
       "    }\n",
       "\n",
       "    .dataframe tbody tr th {\n",
       "        vertical-align: top;\n",
       "    }\n",
       "\n",
       "    .dataframe thead th {\n",
       "        text-align: right;\n",
       "    }\n",
       "</style>\n",
       "<table border=\"1\" class=\"dataframe\">\n",
       "  <thead>\n",
       "    <tr style=\"text-align: right;\">\n",
       "      <th></th>\n",
       "      <th>sentences</th>\n",
       "      <th>autor</th>\n",
       "    </tr>\n",
       "  </thead>\n",
       "  <tbody>\n",
       "    <tr>\n",
       "      <th>0</th>\n",
       "      <td>politics produced  eric eldreda treatise  gov...</td>\n",
       "      <td>ARISTOTLE</td>\n",
       "    </tr>\n",
       "    <tr>\n",
       "      <th>1</th>\n",
       "      <td>cofirst issue  this edition  reprinted , ,  po...</td>\n",
       "      <td>ARISTOTLE</td>\n",
       "    </tr>\n",
       "    <tr>\n",
       "      <th>2</th>\n",
       "      <td>looks back  the ethics  the ethicslooks forwar...</td>\n",
       "      <td>ARISTOTLE</td>\n",
       "    </tr>\n",
       "    <tr>\n",
       "      <th>3</th>\n",
       "      <td>for aristotle did not separate,   areinclined ...</td>\n",
       "      <td>ARISTOTLE</td>\n",
       "    </tr>\n",
       "    <tr>\n",
       "      <th>4</th>\n",
       "      <td>theethics  has described the character necessa...</td>\n",
       "      <td>ARISTOTLE</td>\n",
       "    </tr>\n",
       "  </tbody>\n",
       "</table>\n",
       "</div>"
      ],
      "text/plain": [
       "                                           sentences      autor\n",
       "0   politics produced  eric eldreda treatise  gov...  ARISTOTLE\n",
       "1  cofirst issue  this edition  reprinted , ,  po...  ARISTOTLE\n",
       "2  looks back  the ethics  the ethicslooks forwar...  ARISTOTLE\n",
       "3  for aristotle did not separate,   areinclined ...  ARISTOTLE\n",
       "4  theethics  has described the character necessa...  ARISTOTLE"
      ]
     },
     "execution_count": 19,
     "metadata": {},
     "output_type": "execute_result"
    }
   ],
   "source": [
    "df.sentences = df.sentences.astype(str)\n",
    "\n",
    "# remova o 0 que apareceu no começo de todas as sentencas apos essa conversao\n",
    "df.head()"
   ]
  },
  {
   "cell_type": "code",
   "execution_count": 20,
   "metadata": {},
   "outputs": [],
   "source": [
    "import pandas as pd\n",
    "import torch\n",
    "import torch.nn as nn\n",
    "import torch.optim as optim\n",
    "from torch.utils.data import DataLoader, TensorDataset\n",
    "from sklearn.feature_extraction.text import TfidfVectorizer\n",
    "from sklearn.preprocessing import LabelEncoder\n"
   ]
  },
  {
   "cell_type": "code",
   "execution_count": 21,
   "metadata": {},
   "outputs": [],
   "source": [
    "from sklearn.model_selection import train_test_split\n",
    "import numpy as np"
   ]
  },
  {
   "cell_type": "code",
   "execution_count": 22,
   "metadata": {},
   "outputs": [
    {
     "name": "stdout",
     "output_type": "stream",
     "text": [
      "X shape:  torch.Size([32, 25659])\n",
      "y shape:  torch.Size([32]) torch.int64\n",
      "Using cpu device\n",
      "NeuralNetwork(\n",
      "  (flatten): Flatten(start_dim=1, end_dim=-1)\n",
      "  (linear_relu_stack): Sequential(\n",
      "    (0): Linear(in_features=25659, out_features=80, bias=True)\n",
      "    (1): ReLU()\n",
      "    (2): Linear(in_features=80, out_features=80, bias=True)\n",
      "    (3): ReLU()\n",
      "    (4): Linear(in_features=80, out_features=5, bias=True)\n",
      "  )\n",
      ")\n",
      "Epoch 1 -------------------------------\n",
      "loss: 1.595369  [    0/ 8000]\n",
      "loss: 1.020609  [ 3200/ 8000]\n"
     ]
    },
    {
     "ename": "KeyboardInterrupt",
     "evalue": "",
     "output_type": "error",
     "traceback": [
      "\u001b[1;31m---------------------------------------------------------------------------\u001b[0m",
      "\u001b[1;31mKeyboardInterrupt\u001b[0m                         Traceback (most recent call last)",
      "\u001b[1;32m~\\AppData\\Local\\Temp\\ipykernel_16904\\3180812023.py\u001b[0m in \u001b[0;36m<module>\u001b[1;34m\u001b[0m\n\u001b[0;32m    111\u001b[0m \u001b[1;32mfor\u001b[0m \u001b[0mt\u001b[0m \u001b[1;32min\u001b[0m \u001b[0mrange\u001b[0m\u001b[1;33m(\u001b[0m\u001b[0mepochs\u001b[0m\u001b[1;33m)\u001b[0m\u001b[1;33m:\u001b[0m\u001b[1;33m\u001b[0m\u001b[1;33m\u001b[0m\u001b[0m\n\u001b[0;32m    112\u001b[0m     \u001b[0mprint\u001b[0m\u001b[1;33m(\u001b[0m\u001b[1;34mf'Epoch {t+1} -------------------------------'\u001b[0m\u001b[1;33m)\u001b[0m\u001b[1;33m\u001b[0m\u001b[1;33m\u001b[0m\u001b[0m\n\u001b[1;32m--> 113\u001b[1;33m     \u001b[0mtrain_losses\u001b[0m\u001b[1;33m.\u001b[0m\u001b[0mappend\u001b[0m\u001b[1;33m(\u001b[0m\u001b[0mtrain\u001b[0m\u001b[1;33m(\u001b[0m\u001b[0mtrain_loader\u001b[0m\u001b[1;33m,\u001b[0m \u001b[0mmodel\u001b[0m\u001b[1;33m,\u001b[0m \u001b[0mloss_fn\u001b[0m\u001b[1;33m,\u001b[0m \u001b[0moptimizer\u001b[0m\u001b[1;33m)\u001b[0m\u001b[1;33m)\u001b[0m\u001b[1;33m\u001b[0m\u001b[1;33m\u001b[0m\u001b[0m\n\u001b[0m\u001b[0;32m    114\u001b[0m     \u001b[0mtest_losses\u001b[0m\u001b[1;33m.\u001b[0m\u001b[0mappend\u001b[0m\u001b[1;33m(\u001b[0m\u001b[0mtest\u001b[0m\u001b[1;33m(\u001b[0m\u001b[0mtest_loader\u001b[0m\u001b[1;33m,\u001b[0m \u001b[0mmodel\u001b[0m\u001b[1;33m,\u001b[0m \u001b[0mloss_fn\u001b[0m\u001b[1;33m)\u001b[0m\u001b[1;33m)\u001b[0m\u001b[1;33m\u001b[0m\u001b[1;33m\u001b[0m\u001b[0m\n",
      "\u001b[1;32m~\\AppData\\Local\\Temp\\ipykernel_16904\\3180812023.py\u001b[0m in \u001b[0;36mtrain\u001b[1;34m(dataloader, model, loss_fn, optimizer)\u001b[0m\n\u001b[0;32m     73\u001b[0m         \u001b[1;31m# Backpropagation\u001b[0m\u001b[1;33m\u001b[0m\u001b[1;33m\u001b[0m\u001b[0m\n\u001b[0;32m     74\u001b[0m         \u001b[0moptimizer\u001b[0m\u001b[1;33m.\u001b[0m\u001b[0mzero_grad\u001b[0m\u001b[1;33m(\u001b[0m\u001b[1;33m)\u001b[0m\u001b[1;33m\u001b[0m\u001b[1;33m\u001b[0m\u001b[0m\n\u001b[1;32m---> 75\u001b[1;33m         \u001b[0mloss\u001b[0m\u001b[1;33m.\u001b[0m\u001b[0mbackward\u001b[0m\u001b[1;33m(\u001b[0m\u001b[1;33m)\u001b[0m\u001b[1;33m\u001b[0m\u001b[1;33m\u001b[0m\u001b[0m\n\u001b[0m\u001b[0;32m     76\u001b[0m         \u001b[0moptimizer\u001b[0m\u001b[1;33m.\u001b[0m\u001b[0mstep\u001b[0m\u001b[1;33m(\u001b[0m\u001b[1;33m)\u001b[0m\u001b[1;33m\u001b[0m\u001b[1;33m\u001b[0m\u001b[0m\n\u001b[0;32m     77\u001b[0m \u001b[1;33m\u001b[0m\u001b[0m\n",
      "\u001b[1;32mc:\\Users\\Guilherme\\anaconda3\\lib\\site-packages\\torch\\_tensor.py\u001b[0m in \u001b[0;36mbackward\u001b[1;34m(self, gradient, retain_graph, create_graph, inputs)\u001b[0m\n\u001b[0;32m    485\u001b[0m                 \u001b[0minputs\u001b[0m\u001b[1;33m=\u001b[0m\u001b[0minputs\u001b[0m\u001b[1;33m,\u001b[0m\u001b[1;33m\u001b[0m\u001b[1;33m\u001b[0m\u001b[0m\n\u001b[0;32m    486\u001b[0m             )\n\u001b[1;32m--> 487\u001b[1;33m         torch.autograd.backward(\n\u001b[0m\u001b[0;32m    488\u001b[0m             \u001b[0mself\u001b[0m\u001b[1;33m,\u001b[0m \u001b[0mgradient\u001b[0m\u001b[1;33m,\u001b[0m \u001b[0mretain_graph\u001b[0m\u001b[1;33m,\u001b[0m \u001b[0mcreate_graph\u001b[0m\u001b[1;33m,\u001b[0m \u001b[0minputs\u001b[0m\u001b[1;33m=\u001b[0m\u001b[0minputs\u001b[0m\u001b[1;33m\u001b[0m\u001b[1;33m\u001b[0m\u001b[0m\n\u001b[0;32m    489\u001b[0m         )\n",
      "\u001b[1;32mc:\\Users\\Guilherme\\anaconda3\\lib\\site-packages\\torch\\autograd\\__init__.py\u001b[0m in \u001b[0;36mbackward\u001b[1;34m(tensors, grad_tensors, retain_graph, create_graph, grad_variables, inputs)\u001b[0m\n\u001b[0;32m    198\u001b[0m     \u001b[1;31m# some Python versions print out the first line of a multi-line function\u001b[0m\u001b[1;33m\u001b[0m\u001b[1;33m\u001b[0m\u001b[0m\n\u001b[0;32m    199\u001b[0m     \u001b[1;31m# calls in the traceback and some print out the last line\u001b[0m\u001b[1;33m\u001b[0m\u001b[1;33m\u001b[0m\u001b[0m\n\u001b[1;32m--> 200\u001b[1;33m     Variable._execution_engine.run_backward(  # Calls into the C++ engine to run the backward pass\n\u001b[0m\u001b[0;32m    201\u001b[0m         \u001b[0mtensors\u001b[0m\u001b[1;33m,\u001b[0m \u001b[0mgrad_tensors_\u001b[0m\u001b[1;33m,\u001b[0m \u001b[0mretain_graph\u001b[0m\u001b[1;33m,\u001b[0m \u001b[0mcreate_graph\u001b[0m\u001b[1;33m,\u001b[0m \u001b[0minputs\u001b[0m\u001b[1;33m,\u001b[0m\u001b[1;33m\u001b[0m\u001b[1;33m\u001b[0m\u001b[0m\n\u001b[0;32m    202\u001b[0m         allow_unreachable=True, accumulate_grad=True)  # Calls into the C++ engine to run the backward pass\n",
      "\u001b[1;31mKeyboardInterrupt\u001b[0m: "
     ]
    }
   ],
   "source": [
    "df = pd.read_csv('./dados/sentencas_autores.csv')\n",
    "df.sentences = df.sentences.astype(str)\n",
    "\n",
    "# take a sample of 10000 sentences\n",
    "df = df.sample(10000, random_state=42)\n",
    "\n",
    "X_train, X_test, y_train, y_test = train_test_split(df.sentences, df.autor, test_size=0.2, random_state=42)\n",
    "\n",
    "le = LabelEncoder()\n",
    "vectorizer = TfidfVectorizer()\n",
    "\n",
    "X_train = vectorizer.fit_transform(X_train)\n",
    "X_test = vectorizer.transform(X_test)\n",
    "y_train = le.fit_transform(y_train)\n",
    "y_test = le.fit_transform(y_test)\n",
    "\n",
    "train_dataset = TensorDataset(torch.Tensor(X_train.toarray()), torch.Tensor(y_train).long())\n",
    "test_dataset = TensorDataset(torch.Tensor(X_test.toarray()), torch.Tensor(y_test).long())\n",
    "\n",
    "batch_size = 32\n",
    "\n",
    "train_loader = DataLoader(train_dataset, batch_size=batch_size, shuffle=True)\n",
    "test_loader = DataLoader(test_dataset, batch_size=batch_size, shuffle=False)\n",
    "\n",
    "for X, y in train_loader:\n",
    "    print('X shape: ', X.shape)\n",
    "    print('y shape: ', y.shape, y.dtype)\n",
    "    len_entrada = X.shape[1]\n",
    "    break\n",
    "\n",
    "len_saida = len(set(y_test))\n",
    "\n",
    "# device = 'cuda' if torch.cuda.is_available() else 'cpu'\n",
    "device = 'mps' if torch.backends.mps.is_available() else 'cpu'\n",
    "print('Using {} device'.format(device))\n",
    "\n",
    "class NeuralNetwork(nn.Module):\n",
    "    def __init__(self):\n",
    "        super().__init__()\n",
    "        self.flatten = nn.Flatten()\n",
    "\n",
    "        self.linear_relu_stack = nn.Sequential(\n",
    "            nn.Linear(len_entrada, 80),\n",
    "            nn.ReLU(),\n",
    "            nn.Linear(80, 80),\n",
    "            nn.ReLU(),\n",
    "            nn.Linear(80, len_saida)\n",
    "        )\n",
    "\n",
    "    def forward(self, x):\n",
    "        x = self.flatten(x)\n",
    "        logits = self.linear_relu_stack(x)\n",
    "        return logits\n",
    "\n",
    "model = NeuralNetwork().to(device)\n",
    "print(model)\n",
    "\n",
    "loss_fn = nn.CrossEntropyLoss()\n",
    "optimizer = torch.optim.Adam(model.parameters(), lr=0.001)\n",
    "\n",
    "def train(dataloader, model, loss_fn, optimizer):\n",
    "    size = len(dataloader.dataset)\n",
    "    train_loss = 0\n",
    "\n",
    "    for batch, (X, y) in enumerate(dataloader):\n",
    "        X, y = X.to(device), y.to(device)\n",
    "\n",
    "        # Compute prediction error\n",
    "        pred = model(X)\n",
    "        loss = loss_fn(pred, y)\n",
    "        train_loss += loss.item()\n",
    "\n",
    "        # Backpropagation\n",
    "        optimizer.zero_grad()\n",
    "        loss.backward()\n",
    "        optimizer.step()\n",
    "\n",
    "        if batch % 100 == 0:\n",
    "            loss, current = loss.item(), batch * len(X)\n",
    "            print(f'loss: {loss:>7f}  [{current:>5d}/{size:>5d}]')\n",
    "\n",
    "    train_loss /= size\n",
    "    return train_loss\n",
    "\n",
    "\n",
    "def test(dataloader, model, loss_fn):\n",
    "    size = len(dataloader.dataset)\n",
    "    num_batches = len(dataloader)\n",
    "\n",
    "    test_loss, correct = 0, 0\n",
    "\n",
    "    with torch.no_grad():\n",
    "        for X, y in dataloader:\n",
    "            X, y = X.to(device), y.to(device)\n",
    "            pred = model(X)\n",
    "            \n",
    "            loss = loss_fn(pred, y)\n",
    "            test_loss += loss.item()\n",
    "\n",
    "            correct += (pred.argmax(1) == y).type(torch.float).sum().item()\n",
    "    \n",
    "    test_loss /= size\n",
    "    correct /= size\n",
    "    print(f'Test Error: Accuracy: {(100*correct):>0.1f}%, Avg loss: {test_loss:>8f} ')\n",
    "\n",
    "    return test_loss\n",
    "\n",
    "epochs = 2\n",
    "train_losses = []\n",
    "test_losses = []\n",
    "for t in range(epochs):\n",
    "    print(f'Epoch {t+1} -------------------------------')\n",
    "    train_losses.append(train(train_loader, model, loss_fn, optimizer))\n",
    "    test_losses.append(test(test_loader, model, loss_fn))\n"
   ]
  },
  {
   "cell_type": "code",
   "execution_count": null,
   "metadata": {},
   "outputs": [],
   "source": [
    "# plot the loss\n",
    "import matplotlib.pyplot as plt\n",
    "\n",
    "plt.figure(figsize=(10, 6))\n",
    "plt.title(\"Evolucao do loss pelas epocas\", fontsize=18)\n",
    "plt.ylabel(\"Media do loss\", fontsize=14)\n",
    "plt.xlabel(\"Numero de epoca\", fontsize=14)\n",
    "plt.plot(train_losses, '--r')\n",
    "plt.grid(True)\n",
    "plt.show()"
   ]
  },
  {
   "cell_type": "code",
   "execution_count": null,
   "metadata": {},
   "outputs": [],
   "source": [
    "def preprocess_text(text, vectorizer):\n",
    "    # Aplicar a mesma transformação utilizada no conjunto de treinamento\n",
    "    text_transformed = vectorizer.transform([text])\n",
    "    tensor = torch.Tensor(text_transformed.toarray())\n",
    "    return tensor"
   ]
  },
  {
   "cell_type": "code",
   "execution_count": null,
   "metadata": {},
   "outputs": [],
   "source": [
    "import joblib"
   ]
  },
  {
   "cell_type": "code",
   "execution_count": null,
   "metadata": {},
   "outputs": [],
   "source": [
    "# Salvar o vetorizador\n",
    "joblib.dump(vectorizer, f\"./modelos/vetorizador_{len_entrada}.pkl\")\n",
    "\n",
    "# Salvar o modelo\n",
    "torch.save(model.state_dict(), f\"./modelos/modelo_{len_entrada}.pth\")"
   ]
  },
  {
   "cell_type": "code",
   "execution_count": 35,
   "metadata": {},
   "outputs": [
    {
     "name": "stdout",
     "output_type": "stream",
     "text": [
      "Frase: Wagner\n",
      "Classe prevista: SCHOPENHAUER\n"
     ]
    }
   ],
   "source": [
    "import torch\n",
    "import torch.nn as nn\n",
    "from sklearn.preprocessing import LabelEncoder\n",
    "\n",
    "len_entrada = 25659\n",
    "len_saida = 5\n",
    "\n",
    "le = LabelEncoder()\n",
    "le.fit_transform(\n",
    "    [\"ARISTOTLE\",\n",
    "    \"NIETZSCHE\",\n",
    "    \"PLATO\",\n",
    "    \"SCHOPENHAUER\",\n",
    "    \"THOMAS AQUINAS\"]\n",
    ")\n",
    "\n",
    "class NeuralNetwork(nn.Module):\n",
    "    def __init__(self):\n",
    "        super().__init__()\n",
    "        self.flatten = nn.Flatten()\n",
    "\n",
    "        self.linear_relu_stack = nn.Sequential(\n",
    "            nn.Linear(len_entrada, 80),\n",
    "            nn.ReLU(),\n",
    "            nn.Linear(80, 80),\n",
    "            nn.ReLU(),\n",
    "            nn.Linear(80, len_saida)\n",
    "        )\n",
    "\n",
    "    def forward(self, x):\n",
    "        x = self.flatten(x)\n",
    "        logits = self.linear_relu_stack(x)\n",
    "        return logits\n",
    "\n",
    "# Carregar o vetorizador\n",
    "loaded_vectorizer = joblib.load(f\"./modelos/vetorizador_{len_entrada}.pkl\")\n",
    "\n",
    "device = 'mps' if torch.backends.mps.is_available() else 'cpu'\n",
    "# Carregar o modelo\n",
    "loaded_model = NeuralNetwork().to(device)\n",
    "loaded_model.load_state_dict(torch.load(f\"./modelos/modelo_{len_entrada}.pth\"))\n",
    "loaded_model.eval()\n",
    "\n",
    "\n",
    "input_text = input(\"Digite uma frase: \")\n",
    "# Utilizar o modelo carregado para fazer previsões\n",
    "preprocessed_text = preprocess_text(input_text, loaded_vectorizer)\n",
    "preprocessed_text = preprocessed_text.to(device)\n",
    "\n",
    "with torch.no_grad():\n",
    "    loaded_model.eval()\n",
    "    prediction = loaded_model(preprocessed_text)\n",
    "    predicted_class = prediction.argmax().item()\n",
    "\n",
    "predicted_class_label = le.inverse_transform([predicted_class])[0]\n",
    "\n",
    "print(\"Frase:\", input_text)\n",
    "print(\"Classe prevista:\", predicted_class_label)"
   ]
  },
  {
   "cell_type": "code",
   "execution_count": null,
   "metadata": {},
   "outputs": [],
   "source": [
    "df = pd.read_csv('./dados/sentencas_autores.csv')\n",
    "df.sentences = df.sentences.astype(str)"
   ]
  },
  {
   "cell_type": "code",
   "execution_count": null,
   "metadata": {},
   "outputs": [],
   "source": [
    "import torchtext"
   ]
  },
  {
   "cell_type": "code",
   "execution_count": null,
   "metadata": {},
   "outputs": [],
   "source": [
    "from torchtext.data.utils import get_tokenizer\n",
    "from nltk import word_tokenize\n",
    "\n",
    "\n",
    "tokenizer = get_tokenizer('basic_english')\n",
    "# tokenizer = word_tokenize('english')\n",
    "\n",
    "def split_tokens(row):\n",
    "    sentences = row['sentences']\n",
    "    row['tokens'] =  tokenizer(sentences)\n",
    "    return row\n",
    "\n",
    "df = df.apply(split_tokens, axis=1)"
   ]
  },
  {
   "cell_type": "code",
   "execution_count": null,
   "metadata": {},
   "outputs": [],
   "source": [
    "df.head()"
   ]
  },
  {
   "cell_type": "code",
   "execution_count": null,
   "metadata": {},
   "outputs": [],
   "source": [
    "from collections import Counter\n",
    "\n",
    "counter = Counter()\n",
    "\n",
    "for tokens in df.tokens:\n",
    "    counter.update(tokens)\n",
    "\n",
    "counter.most_common(100)"
   ]
  },
  {
   "cell_type": "code",
   "execution_count": null,
   "metadata": {},
   "outputs": [],
   "source": [
    "import string\n",
    "from nltk.corpus import stopwords\n",
    "\n",
    "stopwords = stopwords.words('english')\n",
    "punctuations = set(string.punctuation)\n",
    "\n",
    "def remove_stopwords_and_punctuations(row):\n",
    "    tokens = row['tokens']\n",
    "    filtered_tokens = [token.lower() for token in tokens if token.lower() not in stopwords and token not in punctuations and not token.isdigit()]\n",
    "    row['tokens'] = filtered_tokens\n",
    "    return row\n",
    "\n",
    "df = df.apply(remove_stopwords_and_punctuations, axis=1)"
   ]
  },
  {
   "cell_type": "code",
   "execution_count": null,
   "metadata": {},
   "outputs": [],
   "source": [
    "from collections import Counter\n",
    "\n",
    "counter = Counter()\n",
    "\n",
    "for tokens in df.tokens:\n",
    "    counter.update(tokens)\n",
    "\n",
    "len(counter)"
   ]
  },
  {
   "cell_type": "code",
   "execution_count": null,
   "metadata": {},
   "outputs": [],
   "source": [
    "df.to_csv('./dados/filosofos_tokens.csv', index=False)"
   ]
  },
  {
   "cell_type": "code",
   "execution_count": null,
   "metadata": {},
   "outputs": [],
   "source": [
    "import torchtext\n",
    "vocab_custom = torchtext.vocab.build_vocab_from_iterator(df['tokens'],\n",
    "                                                         min_freq=3,\n",
    "                                                         specials=['<unk>'])"
   ]
  },
  {
   "cell_type": "code",
   "execution_count": null,
   "metadata": {},
   "outputs": [],
   "source": [
    "vocab_custom.set_default_index(vocab_custom['<unk>'])"
   ]
  },
  {
   "cell_type": "code",
   "execution_count": null,
   "metadata": {},
   "outputs": [],
   "source": [
    "len(vocab_custom)"
   ]
  },
  {
   "cell_type": "code",
   "execution_count": null,
   "metadata": {},
   "outputs": [],
   "source": [
    "def vocab(tokens):\n",
    "  result = []\n",
    "  for token in tokens:\n",
    "    result.append(vocab_custom[token])\n",
    "\n",
    "  return result\n",
    "\n",
    "\n",
    "vocab(df.tokens[0][:10])"
   ]
  },
  {
   "cell_type": "code",
   "execution_count": null,
   "metadata": {},
   "outputs": [],
   "source": [
    "def token2id(row):\n",
    "    row['tokens_id'] = vocab(row['tokens'])\n",
    "    return row\n",
    "\n",
    "df = df.apply(token2id, axis=1)"
   ]
  },
  {
   "cell_type": "code",
   "execution_count": null,
   "metadata": {},
   "outputs": [],
   "source": [
    "df.head()"
   ]
  },
  {
   "cell_type": "code",
   "execution_count": null,
   "metadata": {},
   "outputs": [],
   "source": [
    "autores_unique = df.autor.unique()\n",
    "\n",
    "df['label'] = df['autor'].apply(lambda x: list(autores_unique).index(x))\n",
    "\n",
    "df.head()"
   ]
  },
  {
   "cell_type": "code",
   "execution_count": null,
   "metadata": {},
   "outputs": [],
   "source": [
    "df.tail()"
   ]
  },
  {
   "cell_type": "code",
   "execution_count": null,
   "metadata": {},
   "outputs": [],
   "source": [
    "# import torch\n",
    "# from torch.utils.data import Dataset, DataLoader"
   ]
  },
  {
   "cell_type": "code",
   "execution_count": null,
   "metadata": {},
   "outputs": [],
   "source": [
    "# from sklearn.model_selection import train_test_split\n",
    "\n",
    "# train_df, test_df = train_test_split(df, test_size=0.2, random_state=42, shuffle=True)"
   ]
  },
  {
   "cell_type": "code",
   "execution_count": null,
   "metadata": {},
   "outputs": [],
   "source": [
    "# class FILODataset(Dataset):\n",
    "#     def __init__(self, dataset):\n",
    "#         self.dataset = dataset\n",
    "#         self.data = dataset['tokens_id']\n",
    "\n",
    "#     def __len__(self):\n",
    "#         return len(self.data)\n",
    "\n",
    "#     def __getitem__(self, idx):\n",
    "#       return torch.tensor(self.data.iloc[idx]), torch.tensor(self.dataset.iloc[idx, -1])\n",
    "\n",
    "# dataset_filo = FILODataset(train_df)\n",
    "# dataloader = DataLoader(FILODataset(train_df), shuffle=True, batch_size=256)\n",
    "\n",
    "# print(dataset_filo[0])\n",
    "# print(dataset_filo[1])"
   ]
  },
  {
   "cell_type": "code",
   "execution_count": null,
   "metadata": {},
   "outputs": [],
   "source": [
    "# from torch import nn\n",
    "\n",
    "# EMBED_LEN = 50\n",
    "# HIDDEN_DIM = 16\n",
    "# N_LAYERS = 1\n",
    "# DROPOUT_RATE = 0.2\n",
    "# L2_PENALTY = 1e-4\n",
    "\n",
    "# N_outputs = N_outputs = len(autores_unique)\n",
    "\n",
    "\n",
    "# class CategoryClassifier(nn.Module):\n",
    "#   def __init__(self):\n",
    "#     super(CategoryClassifier, self).__init__()\n",
    "\n",
    "#     self.embedding_layer = nn.Embedding(num_embeddings=len(vocab_custom),\n",
    "#                                         embedding_dim=EMBED_LEN)\n",
    "#     self.lstm = nn.LSTM(input_size=EMBED_LEN, hidden_size=HIDDEN_DIM, num_layers=N_LAYERS)\n",
    "#     self.dropout_lstm = nn.Dropout(p=DROPOUT_RATE)\n",
    "#     self.linear = nn.Linear(HIDDEN_DIM, N_outputs)\n",
    "#     self.dropout_linear = nn.Dropout(p=DROPOUT_RATE)\n",
    "\n",
    "#   def forward(self, input):\n",
    "\n",
    "#         embeddings = self.embedding_layer(input)\n",
    "#         lstm_out, (hn, cn) = self.lstm(embeddings)\n",
    "#         lstm_out = self.dropout_lstm(lstm_out)\n",
    "#         linear_out = self.linear(hn[0])\n",
    "#         linear_out = self.dropout_linear(linear_out)\n",
    "        \n",
    "#         return linear_out"
   ]
  },
  {
   "cell_type": "code",
   "execution_count": null,
   "metadata": {},
   "outputs": [],
   "source": [
    "# from torch import nn\n",
    "\n",
    "# EMBED_LEN = 16\n",
    "# HIDDEN_DIM = 8\n",
    "# N_LAYERS = 1\n",
    "# L2_PENALTY = 1e-4\n",
    "\n",
    "# N_outputs = len(autores_unique)\n",
    "\n",
    "# class TextClassifier(nn.Module):\n",
    "#     def __init__(self):\n",
    "#         super(TextClassifier, self).__init__()\n",
    "\n",
    "#         self.embedding_layer = nn.Embedding(num_embeddings=len(vocab_custom),\n",
    "#                                             embedding_dim=EMBED_LEN)\n",
    "#         self.rnn = nn.RNN(input_size=EMBED_LEN, hidden_size=HIDDEN_DIM, num_layers=N_LAYERS)\n",
    "#         self.linear = nn.Linear(HIDDEN_DIM, N_outputs)\n",
    "\n",
    "\n",
    "#     def forward(self, input):\n",
    "\n",
    "#         embeddings = self.embedding_layer(input)\n",
    "        \n",
    "#         output, final_hidden = self.rnn(embeddings)\n",
    "\n",
    "#         return self.linear(final_hidden[0])"
   ]
  },
  {
   "cell_type": "code",
   "execution_count": null,
   "metadata": {},
   "outputs": [],
   "source": [
    "# model = CategoryClassifier()"
   ]
  },
  {
   "cell_type": "code",
   "execution_count": null,
   "metadata": {},
   "outputs": [],
   "source": [
    "# model(torch.tensor(train_df['tokens_id'].iloc[0]))"
   ]
  },
  {
   "cell_type": "code",
   "execution_count": null,
   "metadata": {},
   "outputs": [],
   "source": [
    "# device = torch.device('cpu')\n",
    "# model.to(device)"
   ]
  },
  {
   "cell_type": "code",
   "execution_count": null,
   "metadata": {},
   "outputs": [],
   "source": [
    "# LR = 8e-3\n",
    "# EPOCHS = 5\n",
    "\n",
    "# loss_fn = nn.CrossEntropyLoss()\n",
    "\n",
    "# optimizer = torch.optim.Adam(model.parameters(), lr=LR, weight_decay=L2_PENALTY)"
   ]
  },
  {
   "cell_type": "code",
   "execution_count": null,
   "metadata": {},
   "outputs": [],
   "source": [
    "# from tqdm.notebook import tqdm\n",
    "\n",
    "# def train(dataloader):\n",
    "#   train_loss = 0\n",
    "\n",
    "#   for batch, (data, label) in enumerate(tqdm(dataloader)):\n",
    "\n",
    "#       label_aux = [0 for i in range(N_outputs)]\n",
    "#       label_aux[label] = 1\n",
    "#       label_aux = torch.tensor(label_aux)\n",
    "\n",
    "#       data, label = data.to(device), label_aux.to(device)\n",
    "      \n",
    "\n",
    "#       out = model(data[0])\n",
    "#       loss = loss_fn(out.to(torch.float32), label_aux.to(torch.float32))\n",
    "\n",
    "#       train_loss += loss.item()\n",
    "      \n",
    "#       optimizer.zero_grad()\n",
    "#       loss.backward()\n",
    "#       optimizer.step()\n",
    "\n",
    "#       if batch % 1000 == 0:\n",
    "#           loss, current = loss.item(), batch * len(data)\n",
    "#           print(f' loss: {loss:>7f}  [{current:>5d}/{len(dataloader.dataset):>5d}]')\n",
    "        \n",
    "#   train_loss /= len(dataloader.dataset)  # média do loss\n",
    "#   return train_loss"
   ]
  },
  {
   "cell_type": "code",
   "execution_count": null,
   "metadata": {},
   "outputs": [],
   "source": [
    "# def test(dataloader):\n",
    "#   size = len(dataloader.dataset)\n",
    "#   test_loss, correct = 0, 0\n",
    "\n",
    "#   with torch.no_grad():\n",
    "#     for data, label in tqdm(dataloader):\n",
    "\n",
    "#       label_aux = [0 for i in range(N_outputs)]\n",
    "#       label_aux[label] = 1\n",
    "#       label_aux = torch.tensor(label_aux)\n",
    "\n",
    "#       data, label = data.to(device), label_aux.to(device)\n",
    "#       out = model(data[0])\n",
    "\n",
    "#       loss = loss_fn(out.to(torch.float32), label_aux.to(torch.float32))\n",
    "#       test_loss += loss.item()\n",
    "\n",
    "#       if torch.argmax(out).item() == torch.argmax(label).item():\n",
    "#         correct += 1\n",
    "\n",
    "#   test_loss /= size\n",
    "#   correct /= size\n",
    "\n",
    "#   print(f' test accuracy: {(100*correct):>0.1f}%, test loss: {test_loss:>8f} ')\n",
    "\n",
    "#   return test_loss"
   ]
  }
 ],
 "metadata": {
  "kernelspec": {
   "display_name": "base",
   "language": "python",
   "name": "python3"
  },
  "language_info": {
   "codemirror_mode": {
    "name": "ipython",
    "version": 3
   },
   "file_extension": ".py",
   "mimetype": "text/x-python",
   "name": "python",
   "nbconvert_exporter": "python",
   "pygments_lexer": "ipython3",
   "version": "3.9.13"
  },
  "orig_nbformat": 4
 },
 "nbformat": 4,
 "nbformat_minor": 2
}
