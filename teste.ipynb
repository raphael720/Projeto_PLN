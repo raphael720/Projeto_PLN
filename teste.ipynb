{
 "cells": [
  {
   "cell_type": "code",
   "execution_count": 3,
   "metadata": {},
   "outputs": [
    {
     "name": "stdout",
     "output_type": "stream",
     "text": [
      "Frase: God is good\n",
      "Classe prevista: THOMAS AQUINAS\n"
     ]
    }
   ],
   "source": [
    "import torch\n",
    "import joblib\n",
    "import torch.nn as nn\n",
    "from sklearn.preprocessing import LabelEncoder\n",
    "\n",
    "def preprocess_text(text, vectorizer):\n",
    "    # Aplicar a mesma transformação utilizada no conjunto de treinamento\n",
    "    text_transformed = vectorizer.transform([text])\n",
    "    tensor = torch.Tensor(text_transformed.toarray())\n",
    "    return tensor\n",
    "\n",
    "len_entrada = 25659\n",
    "len_saida = 5\n",
    "\n",
    "le = LabelEncoder()\n",
    "le.fit_transform(\n",
    "    [\"ARISTOTLE\",\n",
    "    \"NIETZSCHE\",\n",
    "    \"PLATO\",\n",
    "    \"SCHOPENHAUER\",\n",
    "    \"THOMAS AQUINAS\"]\n",
    ")\n",
    "\n",
    "class NeuralNetwork(nn.Module):\n",
    "    def __init__(self):\n",
    "        super().__init__()\n",
    "        self.flatten = nn.Flatten()\n",
    "\n",
    "        self.linear_relu_stack = nn.Sequential(\n",
    "            nn.Linear(len_entrada, 80),\n",
    "            nn.ReLU(),\n",
    "            nn.Linear(80, 80),\n",
    "            nn.ReLU(),\n",
    "            nn.Linear(80, len_saida)\n",
    "        )\n",
    "\n",
    "    def forward(self, x):\n",
    "        x = self.flatten(x)\n",
    "        logits = self.linear_relu_stack(x)\n",
    "        return logits\n",
    "\n",
    "# Carregar o vetorizador\n",
    "loaded_vectorizer = joblib.load(f\"./modelos/vetorizador_{len_entrada}.pkl\")\n",
    "\n",
    "device = 'mps' if torch.backends.mps.is_available() else 'cpu'\n",
    "# Carregar o modelo\n",
    "loaded_model = NeuralNetwork().to(device)\n",
    "loaded_model.load_state_dict(torch.load(f\"./modelos/modelo_{len_entrada}.pth\"))\n",
    "loaded_model.eval()\n",
    "\n",
    "\n",
    "input_text = input(\"Digite uma frase: \")\n",
    "# Utilizar o modelo carregado para fazer previsões\n",
    "preprocessed_text = preprocess_text(input_text, loaded_vectorizer)\n",
    "preprocessed_text = preprocessed_text.to(device)\n",
    "\n",
    "with torch.no_grad():\n",
    "    loaded_model.eval()\n",
    "    prediction = loaded_model(preprocessed_text)\n",
    "    predicted_class = prediction.argmax().item()\n",
    "\n",
    "predicted_class_label = le.inverse_transform([predicted_class])[0]\n",
    "\n",
    "print(\"Frase:\", input_text)\n",
    "print(\"Classe prevista:\", predicted_class_label)"
   ]
  }
 ],
 "metadata": {
  "kernelspec": {
   "display_name": "base",
   "language": "python",
   "name": "python3"
  },
  "language_info": {
   "codemirror_mode": {
    "name": "ipython",
    "version": 3
   },
   "file_extension": ".py",
   "mimetype": "text/x-python",
   "name": "python",
   "nbconvert_exporter": "python",
   "pygments_lexer": "ipython3",
   "version": "3.9.13"
  },
  "orig_nbformat": 4
 },
 "nbformat": 4,
 "nbformat_minor": 2
}
